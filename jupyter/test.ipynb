{
 "cells": [
  {
   "cell_type": "code",
   "execution_count": null,
   "metadata": {},
   "outputs": [],
   "source": [
    "import adaptivefiltering as af\n",
    "from adaptivefiltering.pdal import PDALFilter"
   ]
  },
  {
   "cell_type": "code",
   "execution_count": null,
   "metadata": {},
   "outputs": [],
   "source": [
    "af.set_data_directory(\"../../adaptivefiltering_data\")\n",
    "ds = af.DataSet(\"uls_thingstaette.las\")\n",
    "# ds  = af.DataSet(filename=\"pkgebk_all.las\", spatial_reference=\"EPSG:25833 - ETRS89 / UTM zone 33N\")\n",
    "# ds = af.DataSet(filename=\"500k_NZ20_Westport.laz\")"
   ]
  },
  {
   "cell_type": "code",
   "execution_count": null,
   "metadata": {},
   "outputs": [],
   "source": []
  },
  {
   "cell_type": "code",
   "execution_count": null,
   "metadata": {},
   "outputs": [],
   "source": [
    "p1 = af.load_filter(\n",
    "    \"/home/gwydion/SSC/adaptivefiltering/jupyter/Test/test_myfilter.json\"\n",
    ")\n",
    "p2 = af.load_filter(\n",
    "    \"/home/gwydion/SSC/adaptivefiltering/jupyter/Test/test_myfilter2.json\"\n",
    ")\n",
    "\n",
    "segmentation = af.segmentation.Segmentation.load(\n",
    "    \"/home/gwydion/SSC/adaptivefiltering/jupyter/Test/segments-classified-20220223.geojson\"\n",
    ")\n",
    "\n",
    "\n",
    "segmentation = segmentation.merge_classes()\n",
    "segmentation = af.utils.convert_Segmentation(segmentation, \"EPSG:4326\", \"EPSG:3857\")\n",
    "segmentation = af.segmentation.swap_coordinates(segmentation)"
   ]
  },
  {
   "cell_type": "code",
   "execution_count": null,
   "metadata": {},
   "outputs": [],
   "source": []
  },
  {
   "cell_type": "code",
   "execution_count": null,
   "metadata": {},
   "outputs": [],
   "source": [
    "assigned_seg = af.assign_pipeline(ds, segmentation, [p1, p2])"
   ]
  },
  {
   "cell_type": "code",
   "execution_count": null,
   "metadata": {},
   "outputs": [],
   "source": [
    "assigned_seg[\"features\"]"
   ]
  },
  {
   "cell_type": "code",
   "execution_count": null,
   "metadata": {},
   "outputs": [],
   "source": []
  },
  {
   "cell_type": "code",
   "execution_count": null,
   "metadata": {},
   "outputs": [],
   "source": [
    "len(merged[\"features\"])"
   ]
  },
  {
   "cell_type": "code",
   "execution_count": null,
   "metadata": {},
   "outputs": [],
   "source": [
    "new_segmentation = af.segmentation.Segmentation([])"
   ]
  },
  {
   "cell_type": "code",
   "execution_count": null,
   "metadata": {},
   "outputs": [],
   "source": [
    "new_segmentatio"
   ]
  },
  {
   "cell_type": "code",
   "execution_count": null,
   "metadata": {},
   "outputs": [],
   "source": []
  },
  {
   "cell_type": "code",
   "execution_count": null,
   "metadata": {},
   "outputs": [],
   "source": []
  },
  {
   "cell_type": "code",
   "execution_count": null,
   "metadata": {},
   "outputs": [],
   "source": []
  }
 ],
 "metadata": {
  "interpreter": {
   "hash": "1627d39a9c32f61bfe4aff5945465546673e092d7ef9633feb11a3827f5d287f"
  },
  "kernelspec": {
   "display_name": "Python 3",
   "language": "python",
   "name": "python3"
  },
  "language_info": {
   "codemirror_mode": {
    "name": "ipython",
    "version": 3
   },
   "file_extension": ".py",
   "mimetype": "text/x-python",
   "name": "python",
   "nbconvert_exporter": "python",
   "pygments_lexer": "ipython3",
   "version": "3.9.10"
  }
 },
 "nbformat": 4,
 "nbformat_minor": 4
}
