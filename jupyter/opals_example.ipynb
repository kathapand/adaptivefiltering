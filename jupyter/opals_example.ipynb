{
 "cells": [
  {
   "cell_type": "markdown",
   "metadata": {},
   "source": [
    "## Notitz\n",
    "pdal benutzen um das georef. abzuspeichern. \n",
    "am besten in dataset selber ein Feld dafür machen und in der pdal convert funktion abspeichern.\n",
    "\n",
    "sollte das dataset nie ein pdal objekt gewesen sein, muss es bevor es zu opals werden kann einmal als pdal gelesen werden um die georef zu bekommen."
   ]
  },
  {
   "cell_type": "code",
   "execution_count": null,
   "metadata": {},
   "outputs": [],
   "source": [
    "import adaptivefiltering\n",
    "from adaptivefiltering.asprs import asprs"
   ]
  },
  {
   "cell_type": "code",
   "execution_count": null,
   "metadata": {},
   "outputs": [],
   "source": [
    "dataset = adaptivefiltering.DataSet(filename=\"data/uls_thingstaette.las\")\n",
    "adaptivefiltering.opals.set_opals_directory(\"/home/gwydion/SSC/Opals/opals_2.4.0\")"
   ]
  },
  {
   "cell_type": "code",
   "execution_count": null,
   "metadata": {},
   "outputs": [],
   "source": [
    "dataset = adaptivefiltering.opals.OPALSDataManagerObject.convert(dataset)"
   ]
  },
  {
   "cell_type": "code",
   "execution_count": null,
   "metadata": {},
   "outputs": [],
   "source": [
    "pipeline_1 = adaptivefiltering.load_filter(\"Example_filter/opals_filter_1.json\")\n",
    "pipeline_2 = adaptivefiltering.load_filter(\"Example_filter/opals_filter_2.json\")\n",
    "pipeline_3 = adaptivefiltering.load_filter(\"Example_filter/opals_filter_3.json\")"
   ]
  },
  {
   "cell_type": "code",
   "execution_count": null,
   "metadata": {},
   "outputs": [],
   "source": [
    "opals_dataset_1 = pipeline_1.execute(dataset)\n",
    "opals_dataset_2 = pipeline_2.execute(dataset)\n",
    "opals_dataset_3 = pipeline_3.execute(dataset)"
   ]
  },
  {
   "cell_type": "code",
   "execution_count": null,
   "metadata": {},
   "outputs": [],
   "source": [
    "opals_dataset_1.show_hillshade(resolution=0.25, classification=asprs[\"ground\"])"
   ]
  },
  {
   "cell_type": "code",
   "execution_count": null,
   "metadata": {},
   "outputs": [],
   "source": [
    "opals_dataset_2.show_hillshade(resolution=0.25, classification=asprs[\"ground\"])"
   ]
  },
  {
   "cell_type": "code",
   "execution_count": null,
   "metadata": {},
   "outputs": [],
   "source": [
    "opals_dataset_3.show_hillshade(resolution=0.25, classification=asprs[\"ground\"])"
   ]
  }
 ],
 "metadata": {
  "interpreter": {
   "hash": "d675111c55b50e49d58e5179e69cc710d4110717fd214fa9e6424bfa118e8c2b"
  },
  "kernelspec": {
   "display_name": "Python 3.9.7 64-bit ('adaptivefiltering': conda)",
   "name": "python3"
  },
  "language_info": {
   "codemirror_mode": {
    "name": "ipython",
    "version": 3
   },
   "file_extension": ".py",
   "mimetype": "text/x-python",
   "name": "python",
   "nbconvert_exporter": "python",
   "pygments_lexer": "ipython3",
   "version": "3.9.7"
  }
 },
 "nbformat": 4,
 "nbformat_minor": 2
}
