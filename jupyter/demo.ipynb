{
 "cells": [
  {
   "cell_type": "markdown",
   "metadata": {},
   "source": [
    "## Demo of the Adaptive Ground Point Filtering Library"
   ]
  },
  {
   "cell_type": "markdown",
   "metadata": {},
   "source": [
    "This notebook gives a tour of the capabilities of `filteradapt`. It is continuously updated while we develop the library. You can execute the code in each cell by pressing `Ctrl+Enter`. To start your own project based on `filteradapt`, you can either edit this notebook or start a new one."
   ]
  },
  {
   "cell_type": "markdown",
   "metadata": {},
   "source": [
    "The first thing to do in a Jupyter notebook that uses `filteradapt` is to import the library:"
   ]
  },
  {
   "cell_type": "code",
   "execution_count": null,
   "metadata": {},
   "outputs": [],
   "source": [
    "import adaptivefiltering"
   ]
  },
  {
   "cell_type": "markdown",
   "metadata": {},
   "source": [
    "The next step you will typically do is to construct a dataset object by reading a LAS/LAZ file:"
   ]
  },
  {
   "cell_type": "code",
   "execution_count": null,
   "metadata": {
    "tags": []
   },
   "outputs": [],
   "source": [
    "#ds = adaptivefiltering.DataSet(\"/home/gwydion/SSC/ThingstaetteDataset/uls_thingstaette.las\")\n",
    "ds = adaptivefiltering.DataSet(\"data/500k_NZ20_Westport.laz\")"
   ]
  },
  {
   "cell_type": "code",
   "execution_count": null,
   "metadata": {},
   "outputs": [],
   "source": [
    "#ds.show()"
   ]
  },
  {
   "cell_type": "code",
   "execution_count": null,
   "metadata": {},
   "outputs": [],
   "source": [
    "ds.show_mesh(resolution=2)\n"
   ]
  },
  {
   "cell_type": "code",
   "execution_count": null,
   "metadata": {},
   "outputs": [],
   "source": [
    "import pdal\n",
    "import json\n",
    "import numpy as np\n",
    "import ipyleaflet\n",
    "import ipywidgets\n"
   ]
  },
  {
   "cell_type": "markdown",
   "metadata": {},
   "source": [
    "The data set can be visualized in the notebook through its `show()` method:"
   ]
  },
  {
   "cell_type": "code",
   "execution_count": null,
   "metadata": {},
   "outputs": [],
   "source": [
    "hexbin_json = [\n",
    "    ds.filename,\n",
    "    \n",
    "{\n",
    "        \"type\": \"filters.reprojection\",\n",
    "        \"out_srs\":\"EPSG:4326\"    \n",
    "        },\n",
    "    {\n",
    "        \"type\": \"filters.hexbin\"\n",
    "    },\n",
    "    \n",
    "]\n"
   ]
  },
  {
   "cell_type": "code",
   "execution_count": null,
   "metadata": {},
   "outputs": [],
   "source": [
    "hexbin_pipeline = pdal.Pipeline(json.dumps(hexbin_json))\n",
    "hexbin_count = hexbin_pipeline.execute()\n",
    "hexbin_geojson = json.loads(hexbin_pipeline.metadata)[\"metadata\"][\"filters.hexbin\"][\"boundary_json\"]\n",
    "#get the previous coordinate representation\n",
    "dataset_transformation = json.loads(hexbin_pipeline.metadata)[\"metadata\"][\"readers.las\"][\"comp_spatialreference\"].split(r'GEOGCS[\"')[1].split(r'\",')[0]\n",
    "print(dataset_transformation)"
   ]
  },
  {
   "cell_type": "code",
   "execution_count": null,
   "metadata": {},
   "outputs": [],
   "source": [
    "boundary_coordinates = (hexbin_geojson[\"coordinates\"][0])\n",
    "print(boundary_coordinates)\n",
    "coordinates_mean = np.mean(boundary_coordinates,axis=0)"
   ]
  },
  {
   "cell_type": "code",
   "execution_count": null,
   "metadata": {},
   "outputs": [],
   "source": []
  },
  {
   "cell_type": "code",
   "execution_count": null,
   "metadata": {},
   "outputs": [],
   "source": [
    "polygon_boundary = ipyleaflet.Polygon(\n",
    "    locations=boundary_coordinates,\n",
    "    color=\"gray\",\n",
    "    opacity=0.9\n",
    ")\n",
    "\n",
    "m = ipyleaflet.Map(basemap=ipyleaflet.basemaps.Esri.WorldImagery, \n",
    "                    center=(coordinates_mean[0], \n",
    "                    coordinates_mean[1]), \n",
    "                    crs=ipyleaflet.projections.EPSG3857,\n",
    "                    scroll_wheel_zoom=True,\n",
    "                    max_zoom=20)\n",
    "m.add_layer(polygon_boundary)\n",
    "\n",
    "zoom_slider = ipywidgets.IntSlider(description='Zoom level:', min=0, max=20, value=16)\n",
    "ipywidgets.jslink((zoom_slider, 'value'), (m, 'zoom'))\n",
    "widget_control1 = ipyleaflet.WidgetControl(widget=zoom_slider, position='topright')\n",
    "#m.add_control(widget_control1)\n",
    "\n",
    "\n",
    "\n",
    "color_picker = ipywidgets.ColorPicker(description='Pick a color:')\n",
    "\n",
    "draw_control = ipyleaflet.DrawControl(widget = color_picker)\n",
    "\n",
    "draw_control.polygon = {\n",
    "    \"shapeOptions\": {\n",
    "        \"fillColor\": color_picker.get_interact_value()\n",
    ",\n",
    "        \"color\": color_picker.get_interact_value()\n",
    ",\n",
    "        \"fillOpacity\": 1.0\n",
    "    },\n",
    "    \"drawError\": {\n",
    "        \"color\": \"#dd253b\",\n",
    "        \"message\": \"Oups!\"\n",
    "    },\n",
    "    \"allowIntersection\": False\n",
    "}\n",
    "def update_draw_control_color( *args, **kwargs):\n",
    "        m.remove_control(draw_control)\n",
    "        draw_control.polygon = {\"shapeOptions\": {\n",
    "                        \"fillColor\": color_picker.get_interact_value(),\n",
    "                        \"color\": color_picker.get_interact_value(),\n",
    "                        \"fillOpacity\": 0.4\n",
    "                        }}\n",
    "        m.add_control(draw_control)\n",
    "\n",
    "widget_control2 = ipyleaflet.WidgetControl(widget=color_picker, position='bottomright')\n",
    "draw_control.on_draw(update_draw_control_color)\n",
    "\n",
    "m.add_control(widget_control2)\n",
    "m.add_control(draw_control)\n",
    "m"
   ]
  },
  {
   "cell_type": "code",
   "execution_count": null,
   "metadata": {},
   "outputs": [],
   "source": [
    "class interactive_map:\n",
    "\n",
    "    def __init__(self, boundary_coordinates):\n",
    "        polygon_boundary = ipyleaflet.Polygon(\n",
    "            locations=boundary_coordinates,\n",
    "            color=\"gray\",\n",
    "            opacity=0.9\n",
    "        )\n",
    "\n",
    "        self.m = ipyleaflet.Map(basemap=ipyleaflet.basemaps.Esri.WorldImagery, \n",
    "                            center=(coordinates_mean[0], \n",
    "                            coordinates_mean[1]), \n",
    "                            crs=ipyleaflet.projections.EPSG3857,\n",
    "                            scroll_wheel_zoom=True,\n",
    "                            max_zoom=20)\n",
    "        self.m.add_layer(polygon_boundary)\n",
    "\n",
    "        zoom_slider = ipywidgets.IntSlider(description='Zoom level:', min=0, max=20, value=16)\n",
    "        ipywidgets.jslink((zoom_slider, 'value'), (self.m, 'zoom'))\n",
    "        \n",
    "\n",
    "        color_picker = ipywidgets.ColorPicker(description='Pick a color:')\n",
    "\n",
    "        draw_control = ipyleaflet.DrawControl()\n",
    "\n",
    "        draw_control.polygon = {\n",
    "            \"shapeOptions\": {\n",
    "                \"fillColor\": color_picker.get_interact_value()\n",
    "        ,\n",
    "                \"color\": color_picker.get_interact_value()\n",
    "        ,\n",
    "                \"fillOpacity\": 1.0\n",
    "            },\n",
    "            \"drawError\": {\n",
    "                \"color\": \"#dd253b\",\n",
    "                \"message\": \"Oups!\"\n",
    "            },\n",
    "            \"allowIntersection\": False\n",
    "        }\n",
    "        color_control = ipyleaflet.WidgetControl(widget=color_picker, position='bottomright')\n",
    "        self.m.add_control(color_control)\n",
    "        self.m.add_control(draw_control)\n",
    "        ipywidgets.jslink((color_picker, 'value'), (draw_control.polygon[\"shapeOptions\"], 'color'))\n",
    "\n",
    "\n",
    "    def update_draw_control_color(self, *args, **kwargs):\n",
    "        self.m.remove_control(draw_control)\n",
    "        draw_control.polygon = {\"shapeOptions\": {\n",
    "                        \"fillColor\": color_picker.get_interact_value(),\n",
    "                        \"color\": color_picker.get_interact_value(),\n",
    "                        \"fillOpacity\": 0.4\n",
    "                        }}\n",
    "        self.m.add_control(draw_control)\n",
    "        \n",
    "    def show(self):\n",
    "        return self.m"
   ]
  },
  {
   "cell_type": "code",
   "execution_count": null,
   "metadata": {},
   "outputs": [],
   "source": [
    "test_map = interactive_map(boundary_coordinates)\n",
    "test_map.show()"
   ]
  },
  {
   "cell_type": "code",
   "execution_count": null,
   "metadata": {},
   "outputs": [],
   "source": []
  },
  {
   "cell_type": "code",
   "execution_count": null,
   "metadata": {},
   "outputs": [],
   "source": []
  },
  {
   "cell_type": "code",
   "execution_count": null,
   "metadata": {},
   "outputs": [],
   "source": []
  },
  {
   "cell_type": "code",
   "execution_count": null,
   "metadata": {},
   "outputs": [],
   "source": [
    "\n",
    "polygon = ipyleaflet.Polygon(\n",
    "    locations=[(42, -49), (43, -49), (43, -48)],\n",
    "    color=\"green\",\n",
    "    fill_color=\"green\",\n",
    "    transform=True\n",
    ")\n",
    "\n",
    "m = ipyleaflet.Map(center=(42.5531, -48.6914), zoom=6)\n",
    "m.add_layer(polygon);\n",
    "\n",
    "m"
   ]
  },
  {
   "cell_type": "code",
   "execution_count": null,
   "metadata": {},
   "outputs": [],
   "source": []
  }
 ],
 "metadata": {
  "interpreter": {
   "hash": "b23a54a307c68e72ca2a23e7951a8039dbbb834772c78cac9c7ee54b21666c94"
  },
  "kernelspec": {
   "display_name": "Python 3.9.4 64-bit ('filteradapt': conda)",
   "name": "python3"
  },
  "language_info": {
   "codemirror_mode": {
    "name": "ipython",
    "version": 3
   },
   "file_extension": ".py",
   "mimetype": "text/x-python",
   "name": "python",
   "nbconvert_exporter": "python",
   "pygments_lexer": "ipython3",
   "version": "3.9.4"
  }
 },
 "nbformat": 4,
 "nbformat_minor": 4
}
