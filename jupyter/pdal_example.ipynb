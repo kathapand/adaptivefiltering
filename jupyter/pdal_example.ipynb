{
 "cells": [
  {
   "cell_type": "markdown",
   "metadata": {},
   "source": [
    "# Pdal Example Notebook\n",
    "This notebook is a short example of the Pdal utilities provided by `adaptivefiltering`.\n",
    "If you have not worked with `adaptivefiltering` before please have a look at the `demo.ipynb`.\n",
    "\n",
    "*This notebook uses a data set that is not shipped with `adaptivefiltering`, it can be run on <a href=\"https://ssc-jupyter.iwr.uni-heidelberg.de/hub/home\" target=\"_blank\">the SSC JupyterHub</a>*"
   ]
  },
  {
   "cell_type": "code",
   "execution_count": null,
   "metadata": {},
   "outputs": [],
   "source": [
    "import adaptivefiltering\n",
    "from adaptivefiltering.asprs import asprs"
   ]
  },
  {
   "cell_type": "code",
   "execution_count": null,
   "metadata": {},
   "outputs": [],
   "source": [
    "dataset = adaptivefiltering.DataSet(filename=\"data/uls_thingstaette.las\")"
   ]
  },
  {
   "cell_type": "markdown",
   "metadata": {},
   "source": [
    "The provided filters were constructed using the `filtering.ipynb` notebook."
   ]
  },
  {
   "cell_type": "code",
   "execution_count": null,
   "metadata": {},
   "outputs": [],
   "source": [
    "pipeline_1 = adaptivefiltering.load_filter(\"Example_filter/Example_pdal_1.json\")\n",
    "pipeline_2 = adaptivefiltering.load_filter(\"Example_filter/Example_pdal_1.json\")\n",
    "pipeline_3 = adaptivefiltering.load_filter(\"Example_filter/Example_pdal_1.json\")"
   ]
  },
  {
   "cell_type": "markdown",
   "metadata": {},
   "source": [
    "When executing a filterpipeline a new dataset object will be created."
   ]
  },
  {
   "cell_type": "code",
   "execution_count": null,
   "metadata": {},
   "outputs": [],
   "source": [
    "dataset_1 = pipeline_1.execute(dataset)\n",
    "dataset_2 = pipeline_2.execute(dataset)\n",
    "dataset_3 = pipeline_3.execute(dataset)"
   ]
  },
  {
   "cell_type": "code",
   "execution_count": null,
   "metadata": {},
   "outputs": [],
   "source": [
    "dataset_1.show_hillshade(resolution=0.25, classification=asprs[\"ground\"])"
   ]
  },
  {
   "cell_type": "code",
   "execution_count": null,
   "metadata": {},
   "outputs": [],
   "source": [
    "dataset_2.show_hillshade(resolution=0.25, classification=asprs[\"ground\"])"
   ]
  },
  {
   "cell_type": "code",
   "execution_count": null,
   "metadata": {},
   "outputs": [],
   "source": [
    "dataset_3.show_hillshade(resolution=0.5, classification=asprs[\"ground\"])"
   ]
  },
  {
   "cell_type": "code",
   "execution_count": null,
   "metadata": {},
   "outputs": [],
   "source": []
  }
 ],
 "metadata": {
  "interpreter": {
   "hash": "d675111c55b50e49d58e5179e69cc710d4110717fd214fa9e6424bfa118e8c2b"
  },
  "kernelspec": {
   "display_name": "Python 3.9.7 64-bit ('adaptivefiltering': conda)",
   "name": "python3"
  },
  "language_info": {
   "codemirror_mode": {
    "name": "ipython",
    "version": 3
   },
   "file_extension": ".py",
   "mimetype": "text/x-python",
   "name": "python",
   "nbconvert_exporter": "python",
   "pygments_lexer": "ipython3",
   "version": "3.9.7"
  }
 },
 "nbformat": 4,
 "nbformat_minor": 4
}
