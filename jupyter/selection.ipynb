{
 "cells": [
  {
   "cell_type": "markdown",
   "id": "59cb134c-b2ed-4c28-bcf4-56413862faf7",
   "metadata": {},
   "source": [
    "## Selecting a filter pipeline for a dataset"
   ]
  },
  {
   "cell_type": "code",
   "execution_count": null,
   "id": "a19ee29e-13d9-43d5-b3b9-fcb5c540038a",
   "metadata": {},
   "outputs": [],
   "source": [
    "import adaptivefiltering"
   ]
  },
  {
   "cell_type": "markdown",
   "id": "c96ae6ba-6a98-426a-b2a6-43faa9f951a9",
   "metadata": {},
   "source": [
    "First, we select some candidates from filter libraries. In the left most column, we see filtering criterions we can use to access the filter pipelines in our filtering libraries. The middle column contains a list of filter pipelines that match the given criteria. Clicking one of these will select it and show its metadata in the third column. Multiple filters can be selected by keeping `CTRL` pressed while clicking additional filters."
   ]
  },
  {
   "cell_type": "code",
   "execution_count": null,
   "id": "3fef3a3f-ba8c-41da-bd5a-f4ba9cb52b13",
   "metadata": {},
   "outputs": [],
   "source": [
    "pipelines = adaptivefiltering.select_pipelines_from_library()"
   ]
  },
  {
   "cell_type": "markdown",
   "id": "2c0d7c1d-f2ba-4154-ab63-483bc265f820",
   "metadata": {},
   "source": [
    "Next thing to do is to load a dataset as described in [Working with datasets](datasets.ipynb). Again, it is best to restrict the sample size to a reasonable size (e.g. by using the `restrict` method on the dataset) to allow a truely interactive exploration process:"
   ]
  },
  {
   "cell_type": "code",
   "execution_count": null,
   "id": "99a31c5b-f27e-4c28-8aa9-1f13fc57ded6",
   "metadata": {},
   "outputs": [],
   "source": [
    "dataset = adaptivefiltering.DataSet(filename=\"500k_NZ20_Westport.laz\")"
   ]
  },
  {
   "cell_type": "markdown",
   "id": "b83f50d3-b69d-4ce7-9d14-683c02c635a9",
   "metadata": {},
   "source": [
    "We can then create a comparison of ground point filtering results with the goal of choosing the most fitting pipeline:"
   ]
  },
  {
   "cell_type": "code",
   "execution_count": null,
   "id": "bf9ada7c-fdff-4d64-9769-58ce3c1f197e",
   "metadata": {},
   "outputs": [],
   "source": [
    "adaptivefiltering.select_best_pipeline(dataset, pipelines=pipelines)"
   ]
  }
 ],
 "metadata": {
  "kernelspec": {
   "display_name": "Python 3",
   "language": "python",
   "name": "python3"
  },
  "language_info": {
   "codemirror_mode": {
    "name": "ipython",
    "version": 3
   },
   "file_extension": ".py",
   "mimetype": "text/x-python",
   "name": "python",
   "nbconvert_exporter": "python",
   "pygments_lexer": "ipython3",
   "version": "3.9.7"
  }
 },
 "nbformat": 4,
 "nbformat_minor": 5
}
