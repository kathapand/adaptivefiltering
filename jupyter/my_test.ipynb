{
 "cells": [
  {
   "cell_type": "markdown",
   "metadata": {},
   "source": [
    "## Demo of the Adaptive Ground Point Filtering Library"
   ]
  },
  {
   "cell_type": "markdown",
   "metadata": {},
   "source": [
    "This notebook gives a tour of the capabilities of `filteradapt`. It is continuously updated while we develop the library. You can execute the code in each cell by pressing `Ctrl+Enter`. To start your own project based on `filteradapt`, you can either edit this notebook or start a new one."
   ]
  },
  {
   "cell_type": "markdown",
   "metadata": {},
   "source": [
    "The first thing to do in a Jupyter notebook that uses `filteradapt` is to import the library:"
   ]
  },
  {
   "cell_type": "code",
   "execution_count": null,
   "metadata": {},
   "outputs": [],
   "source": [
    "import adaptivefiltering"
   ]
  },
  {
   "cell_type": "markdown",
   "metadata": {},
   "source": [
    "The next step you will typically do is to construct a dataset object by reading a LAS/LAZ file:"
   ]
  },
  {
   "cell_type": "code",
   "execution_count": null,
   "metadata": {
    "tags": []
   },
   "outputs": [],
   "source": [
    "#ds = adaptivefiltering.DataSet(\"/home/gwydion/SSC/ThingstaetteDataset/uls_thingstaette.las\")\n",
    "ds = adaptivefiltering.DataSet(\"data/500k_NZ20_Westport.laz\")"
   ]
  },
  {
   "cell_type": "code",
   "execution_count": null,
   "metadata": {},
   "outputs": [],
   "source": [
    "#ds.show()"
   ]
  },
  {
   "cell_type": "code",
   "execution_count": null,
   "metadata": {},
   "outputs": [],
   "source": [
    "#ds.show_mesh(resolution=2)\n"
   ]
  },
  {
   "cell_type": "code",
   "execution_count": null,
   "metadata": {},
   "outputs": [],
   "source": [
    "import pdal\n",
    "import json\n",
    "import numpy as np\n",
    "import ipyleaflet\n",
    "import ipywidgets\n"
   ]
  },
  {
   "cell_type": "markdown",
   "metadata": {},
   "source": [
    "The data set can be visualized in the notebook through its `show()` method:"
   ]
  },
  {
   "cell_type": "code",
   "execution_count": null,
   "metadata": {},
   "outputs": [],
   "source": []
  },
  {
   "cell_type": "code",
   "execution_count": null,
   "metadata": {},
   "outputs": [],
   "source": []
  },
  {
   "cell_type": "code",
   "execution_count": null,
   "metadata": {},
   "outputs": [],
   "source": []
  },
  {
   "cell_type": "code",
   "execution_count": null,
   "metadata": {},
   "outputs": [],
   "source": []
  },
  {
   "cell_type": "markdown",
   "metadata": {},
   "source": [
    "polygon_boundary = ipyleaflet.Polygon(\n",
    "    locations=boundary_coordinates,\n",
    "    color=\"gray\",\n",
    "    opacity=0.9\n",
    ")\n",
    "\n",
    "m = ipyleaflet.Map(basemap=ipyleaflet.basemaps.Esri.WorldImagery, \n",
    "                    center=(coordinates_mean[0], \n",
    "                    coordinates_mean[1]), \n",
    "                    crs=ipyleaflet.projections.EPSG3857,\n",
    "                    scroll_wheel_zoom=True,\n",
    "                    max_zoom=20)\n",
    "m.add_layer(polygon_boundary)\n",
    "\n",
    "zoom_slider = ipywidgets.IntSlider(description='Zoom level:', min=0, max=20, value=16)\n",
    "ipywidgets.jslink((zoom_slider, 'value'), (m, 'zoom'))\n",
    "widget_control1 = ipyleaflet.WidgetControl(widget=zoom_slider, position='topright')\n",
    "#m.add_control(widget_control1)\n",
    "\n",
    "\n",
    "\n",
    "color_picker = ipywidgets.ColorPicker(description='Pick a color:')\n",
    "\n",
    "draw_control = ipyleaflet.DrawControl(widget = color_picker)\n",
    "\n",
    "draw_control.polygon = {\n",
    "    \"shapeOptions\": {\n",
    "        \"fillColor\": color_picker.get_interact_value()\n",
    ",\n",
    "        \"color\": color_picker.get_interact_value()\n",
    ",\n",
    "        \"fillOpacity\": 1.0\n",
    "    },\n",
    "    \"drawError\": {\n",
    "        \"color\": \"#dd253b\",\n",
    "        \"message\": \"Oups!\"\n",
    "    },\n",
    "    \"allowIntersection\": False\n",
    "}\n",
    "def update_draw_control_color( *args, **kwargs):\n",
    "        m.remove_control(draw_control)\n",
    "        draw_control.polygon = {\"shapeOptions\": {\n",
    "                        \"fillColor\": color_picker.get_interact_value(),\n",
    "                        \"color\": color_picker.get_interact_value(),\n",
    "                        \"fillOpacity\": 0.4\n",
    "                        }}\n",
    "        m.add_control(draw_control)\n",
    "\n",
    "widget_control2 = ipyleaflet.WidgetControl(widget=color_picker, position='bottomright')\n",
    "draw_control.on_draw(update_draw_control_color)\n",
    "\n",
    "m.add_control(widget_control2)\n",
    "m.add_control(draw_control)\n",
    "m"
   ]
  },
  {
   "cell_type": "code",
   "execution_count": null,
   "metadata": {},
   "outputs": [],
   "source": [
    "class interactive_map:\n",
    "\n",
    "    def __init__(self, dataset):\n",
    "        \"\"\"This class manages the interactive map on which one can choose the segmentation. \n",
    "           \n",
    "        :param dataset:\n",
    "            The dataset from which the map should be displayed. This needs to be in a valid georeferenced format. Eg.: EPSG:4326\n",
    "        :type dataset: Dataset\n",
    "        \n",
    "        \"\"\"\n",
    "        self.dataset = dataset\n",
    "        self.coordinates_mean, self.polygon_boundary = self.get_bounds()\n",
    "\n",
    "        self.m = ipyleaflet.Map(basemap=ipyleaflet.basemaps.Esri.WorldImagery, \n",
    "                            center=(self.coordinates_mean[0], \n",
    "                            self.coordinates_mean[1]), \n",
    "                            crs=ipyleaflet.projections.EPSG3857,\n",
    "                            scroll_wheel_zoom=True,\n",
    "                            max_zoom=20)\n",
    "        self.m.add_layer(self.polygon_boundary)\n",
    "\n",
    "         #always add polygon draw tool and zoom slider\n",
    "        self.add_zoom_slider()\n",
    "        self.add_polygon_control()\n",
    "\n",
    "\n",
    "        #get a color picker to put on the right side of the map\n",
    "        self.color_pick = self.get_color_pick()\n",
    "        #setup the grid with a list of widgets\n",
    "        self.setup_grid([self.m, self.color_pick])\n",
    "    \n",
    "    def get_bounds(self):\n",
    "        \"\"\"takes the boundry coordinates of given dataset through the hexbin filter and returns them as a polygon \n",
    "\n",
    "        :return:\n",
    "        :param coordinates_mean: \n",
    "            the approximate center of the polygon, this is where the map will be centered\n",
    "        :type coordinates_mena: ndarray\n",
    "\n",
    "\n",
    "        :param polygon_boundary: \n",
    "            An ipyleaflet Polygon object which can be added to the map to mark the selected area.\n",
    "        :type polygon_boundary: ipyleaflet Polygon\n",
    "\n",
    "        \"\"\"\n",
    "        hexbin_json = [\n",
    "            ds.filename,\n",
    "        {\n",
    "                \"type\": \"filters.reprojection\",\n",
    "                \"out_srs\":\"EPSG:4326\"    \n",
    "                },\n",
    "            {\n",
    "                \"type\": \"filters.hexbin\"\n",
    "            },\n",
    "            \n",
    "        ]\n",
    "        hexbin_pipeline = pdal.Pipeline(json.dumps(hexbin_json))\n",
    "        hexbin_pipeline.execute()\n",
    "        hexbin_geojson = json.loads(hexbin_pipeline.metadata)[\"metadata\"][\"filters.hexbin\"][\"boundary_json\"]\n",
    "        #get the previous coordinate representation\n",
    "        boundary_coordinates = (hexbin_geojson[\"coordinates\"][0])\n",
    "        coordinates_mean = np.mean(boundary_coordinates,axis=0)\n",
    "        polygon_boundary = ipyleaflet.Polygon(\n",
    "            locations=boundary_coordinates,\n",
    "            color=\"gray\",\n",
    "            opacity=0.9\n",
    "        )\n",
    "        return coordinates_mean, polygon_boundary\n",
    "      \n",
    "\n",
    "    def add_zoom_slider(self):\n",
    "        \"\"\"Adds the zoom slider to the interactive map. Also sets the default zoom\n",
    "        \"\"\"\n",
    "\n",
    "        self.zoom_slider = ipywidgets.IntSlider(description='Zoom level:', min=0, max=20, value=16)\n",
    "        ipywidgets.jslink((self.zoom_slider, 'value'), (self.m, 'zoom'))\n",
    "        self.zoom_control1 = ipyleaflet.WidgetControl(widget=self.zoom_slider, position='topright')\n",
    "        self.m.add_control(self.zoom_control1)\n",
    "\n",
    "    def add_polygon_control(self):\n",
    "        \"\"\"Adds the polygon draw control.\n",
    "        \"\"\"\n",
    "        self.draw_control = ipyleaflet.DrawControl(layout=ipywidgets.Layout(width='auto', grid_area='main'))\n",
    "        #deactivate polyline and circlemarker\n",
    "        self.draw_control.polyline={}\n",
    "        self.draw_control.circlemarker={}\n",
    "\n",
    "        self.draw_control.polygon = {\n",
    "            \"shapeOptions\": {\n",
    "                \"fillColor\": \"black\"\n",
    "        ,\n",
    "                \"color\": \"black\"\n",
    "        ,\n",
    "                \"fillOpacity\": 0.1\n",
    "            },\n",
    "            \"drawError\": {\n",
    "                \"color\": \"#dd253b\",\n",
    "                \"message\": \"Oups!\"\n",
    "            },\n",
    "            \"allowIntersection\": False\n",
    "        }\n",
    "\n",
    "        self.m.add_control(self.draw_control)\n",
    "\n",
    "    def get_color_pick(self):\n",
    "        \"\"\"Adds the color picker widget\"\"\"\n",
    "\n",
    "        self.color_picker = ipywidgets.ColorPicker(description='Pick a color:',layout=ipywidgets.Layout(width='auto', grid_area='sidebar'))\n",
    "        self.color_picker.observe(self.update_draw_control_color)\n",
    "        #self.m.add_control(self.color_control)\n",
    "        return self.color_picker\n",
    "\n",
    "\n",
    "\n",
    "    def setup_grid(self, objects):\n",
    "        \"\"\" Setup the grid layout to allow the color bar and more on the right side of the map.\"\"\"\n",
    "        self.grid = ipywidgets.GridBox(children=objects,\n",
    "        layout=ipywidgets.Layout(\n",
    "            width='100%',\n",
    "            grid_template_columns='70% 30%',\n",
    "           # grid_template_rows='90% 10%', \n",
    "            grid_template_areas='''\n",
    "            \n",
    "            \"main sidebar \"\n",
    "            \n",
    "            ''')\n",
    "       )\n",
    "\n",
    "    def draw_handler():\n",
    "        print(\"\")\n",
    "\n",
    "\n",
    "    def update_draw_control_color(self,change,  *args, **kwargs):\n",
    "        \"\"\"This is the automatic handler for detecting if a new color is selected.\n",
    "\n",
    "        \n",
    "        \"\"\"\n",
    "        self.m.remove_control(self.draw_control)\n",
    "        self.draw_control.polygon = {\"shapeOptions\": {\n",
    "                        \"fillColor\": self.color_picker.get_interact_value(),\n",
    "                        \"color\": self.color_picker.get_interact_value(),\n",
    "                        \"fillOpacity\": 0.1\n",
    "                        }}\n",
    "        self.m.add_control(self.draw_control)\n",
    "        \n",
    "    def show(self):\n",
    "        return self.grid"
   ]
  },
  {
   "cell_type": "code",
   "execution_count": null,
   "metadata": {},
   "outputs": [],
   "source": [
    "test_map = interactive_map(ds)\n",
    "test_map.show()"
   ]
  },
  {
   "cell_type": "code",
   "execution_count": null,
   "metadata": {},
   "outputs": [],
   "source": []
  },
  {
   "cell_type": "code",
   "execution_count": null,
   "metadata": {},
   "outputs": [],
   "source": []
  },
  {
   "cell_type": "code",
   "execution_count": null,
   "metadata": {},
   "outputs": [],
   "source": []
  },
  {
   "cell_type": "code",
   "execution_count": null,
   "metadata": {},
   "outputs": [],
   "source": []
  },
  {
   "cell_type": "code",
   "execution_count": null,
   "metadata": {},
   "outputs": [],
   "source": []
  },
  {
   "cell_type": "code",
   "execution_count": null,
   "metadata": {},
   "outputs": [],
   "source": []
  },
  {
   "cell_type": "code",
   "execution_count": null,
   "metadata": {},
   "outputs": [],
   "source": [
    "from ipywidgets import Button, GridBox, Layout, ButtonStyle\n",
    "header  = Button(description='Header',\n",
    "                 layout=Layout(width='auto', grid_area='header'),\n",
    "                 style=ButtonStyle(button_color='lightblue'))\n",
    "main    = Button(description='Main',\n",
    "                 layout=Layout(width='auto', grid_area='main'),\n",
    "                 style=ButtonStyle(button_color='moccasin'))\n",
    "sidebar = Button(description='Sidebar',\n",
    "                 layout=Layout(width='auto', grid_area='sidebar'),\n",
    "                 style=ButtonStyle(button_color='salmon'))\n",
    "footer  = Button(description='Footer',\n",
    "                 layout=Layout(width='auto', grid_area='footer'),\n",
    "                 style=ButtonStyle(button_color='olive'))\n",
    "\n",
    "GridBox(children=[header, main, sidebar, footer],\n",
    "        layout=Layout(\n",
    "            width='50%',\n",
    "            grid_template_rows='auto auto auto',\n",
    "            grid_template_columns='25% 25% 25% 25%',\n",
    "            grid_template_areas='''\n",
    "            \"header header header header\"\n",
    "            \"main main . sidebar \"\n",
    "            \"footer footer footer footer\"\n",
    "            ''')\n",
    "       )"
   ]
  },
  {
   "cell_type": "code",
   "execution_count": null,
   "metadata": {},
   "outputs": [],
   "source": []
  }
 ],
 "metadata": {
  "interpreter": {
   "hash": "b23a54a307c68e72ca2a23e7951a8039dbbb834772c78cac9c7ee54b21666c94"
  },
  "kernelspec": {
   "display_name": "Python 3.9.4 64-bit ('filteradapt': conda)",
   "name": "python3"
  },
  "language_info": {
   "codemirror_mode": {
    "name": "ipython",
    "version": 3
   },
   "file_extension": ".py",
   "mimetype": "text/x-python",
   "name": "python",
   "nbconvert_exporter": "python",
   "pygments_lexer": "ipython3",
   "version": "3.9.4"
  }
 },
 "nbformat": 4,
 "nbformat_minor": 4
}
