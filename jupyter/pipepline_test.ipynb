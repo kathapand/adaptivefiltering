{
 "cells": [
  {
   "cell_type": "markdown",
   "metadata": {},
   "source": [
    "# Demo of the Adaptive Ground Point Filtering Library"
   ]
  },
  {
   "cell_type": "markdown",
   "metadata": {},
   "source": [
    "This notebook gives a tour of the capabilities of `filteradapt`. It is continuously updated while we develop the library. You can execute the code in each cell by pressing `Ctrl+Enter`. To start your own project based on `filteradapt`, you can either edit this notebook or start a new one."
   ]
  },
  {
   "cell_type": "markdown",
   "metadata": {},
   "source": [
    "The first thing to do in a Jupyter notebook that uses `filteradapt` is to import the library:"
   ]
  },
  {
   "cell_type": "code",
   "execution_count": null,
   "metadata": {
    "slideshow": {
     "slide_type": "slide"
    },
    "tags": []
   },
   "outputs": [],
   "source": [
    "%load_ext lab_black"
   ]
  },
  {
   "cell_type": "code",
   "execution_count": null,
   "metadata": {},
   "outputs": [],
   "source": [
    "import filteradapt\n",
    "import pdal\n",
    "import json"
   ]
  },
  {
   "cell_type": "markdown",
   "metadata": {},
   "source": [
    "The next step you will typically do is to construct a dataset object by reading a LAS/LAZ file:"
   ]
  },
  {
   "cell_type": "code",
   "execution_count": null,
   "metadata": {
    "tags": []
   },
   "outputs": [],
   "source": []
  },
  {
   "cell_type": "markdown",
   "metadata": {},
   "source": [
    "The data set can be visualized in the notebook through its `show()` method:"
   ]
  },
  {
   "cell_type": "code",
   "execution_count": null,
   "metadata": {},
   "outputs": [],
   "source": [
    "from filteradapt.paths import locate_file\n",
    "\n",
    "filename = locate_file(\"data/500k_NZ20_Westport.laz\")\n",
    "\n",
    "\n",
    "def initilize_pipeline(filename):\n",
    "    \"\"\"Initilizes dict fir pipeline generation\n",
    "    containes list with only filename as entry for \"pipeline\"\n",
    "\n",
    "\n",
    "    keyword arguments:\n",
    "    filename [str]: filename or path to the laz or las file\n",
    "\n",
    "    \"\"\"\n",
    "    if filename[-3:] != (\"laz\" or \"las\"):\n",
    "        raise TypeError(\"Filetype must be .las or .laz, but is .\" + filename[-3:])\n",
    "\n",
    "    my_json = {\"pipeline\": [filename]}\n",
    "    return json.dumps(my_json)\n",
    "\n",
    "\n",
    "def add_filter_to_pipeline(pipeline, filtername, arg_str=None, arg_option=None):\n",
    "    \"\"\"inputs:\n",
    "    adds one or many filteres to the pipeline\n",
    "    convert json back to dict and append to the list under \"pipeline\"\n",
    "\n",
    "    plan to add option to change filters\n",
    "    \"\"\"\n",
    "\n",
    "    pipeline_dict = json.loads(pipeline)\n",
    "    # handle exceptions for wrong input\n",
    "\n",
    "    if arg_str == None and arg_option != None:\n",
    "        error = \"Can't set arg_option to '{}' without setting arg_str.\".format(\n",
    "            arg_option\n",
    "        )\n",
    "        raise ValueError(error)\n",
    "    elif arg_str != None and arg_option == None:\n",
    "        error = \"Can't set arg_str to '{}'  without setting arg_option.\".format(arg_str)\n",
    "        raise ValueError(error)\n",
    "    # add filter to pipeline\n",
    "    if arg_str == None:\n",
    "        pipeline_dict[\"pipeline\"].append({\"type\": \"filters.\" + filtername})\n",
    "    else:\n",
    "        pipeline_dict[\"pipeline\"].append(\n",
    "            {\"type\": \"filters.\" + filtername, arg_str: arg_option}\n",
    "        )\n",
    "\n",
    "    return json.dumps(pipeline_dict)\n",
    "\n",
    "\n",
    "test = initilize_pipeline(filename)\n",
    "print((test))\n",
    "test = add_filter_to_pipeline(test, \"csf\")\n",
    "# test = add_filter_to_pipeline(\n",
    "#    test, \"range\", arg_str=\"limits\", arg_option=\"Classification[2:2]\"\n",
    "# )\n",
    "\n",
    "print((test))"
   ]
  },
  {
   "cell_type": "code",
   "execution_count": null,
   "metadata": {},
   "outputs": [],
   "source": [
    "pipeline = pdal.Pipeline(test)\n",
    "pipeline.validate()\n",
    "%time n_points = pipeline.execute()\n",
    "print(\"Pipeline selected {} points \".format(n_points))"
   ]
  },
  {
   "cell_type": "code",
   "execution_count": null,
   "metadata": {},
   "outputs": [],
   "source": []
  },
  {
   "cell_type": "code",
   "execution_count": null,
   "metadata": {},
   "outputs": [],
   "source": [
    "import pandas as pd\n",
    "\n",
    "# Load Pipeline output in python objects\n",
    "arr = pipeline2.arrays[0]\n",
    "description = arr.dtype.descr\n",
    "cols = [col for col, __ in description]\n",
    "df = pd.DataFrame({col: arr[col] for col in cols})\n",
    "df[\"X_0\"] = df[\"X\"]\n",
    "df[\"Y_0\"] = df[\"Y\"]\n",
    "df[\"Z_0\"] = df[\"Z\"]\n",
    "df[\"X\"] = df[\"X\"] - df[\"X_0\"].min()\n",
    "df[\"Y\"] = df[\"Y\"] - df[\"Y_0\"].min()\n",
    "df[\"Z\"] = df[\"Z\"] - df[\"Z_0\"].min()"
   ]
  },
  {
   "cell_type": "code",
   "execution_count": null,
   "metadata": {},
   "outputs": [],
   "source": [
    "import ipyvolume.pylab as p3\n",
    "\n",
    "fig = p3.figure(width=1000)\n",
    "fig.xlabel = \"Y\"\n",
    "fig.ylabel = \"Z\"\n",
    "fig.zlabel = \"X\"\n",
    "all_points = p3.scatter(df[\"Y\"], df[\"Z\"], df[\"X\"], color=\"red\", size=0.05)\n",
    "p3.squarelim()\n",
    "p3.show()"
   ]
  },
  {
   "cell_type": "code",
   "execution_count": null,
   "metadata": {},
   "outputs": [],
   "source": [
    "print(len(df))\n",
    "df.head()"
   ]
  },
  {
   "cell_type": "code",
   "execution_count": null,
   "metadata": {},
   "outputs": [],
   "source": []
  },
  {
   "cell_type": "code",
   "execution_count": null,
   "metadata": {},
   "outputs": [],
   "source": [
    "import os \n",
    "dir_path = os.path.dirname(os.path.realpath(\"demo.ipynb\"))\n",
    "print(dir_path)"
   ]
  },
  {
   "cell_type": "code",
   "execution_count": null,
   "metadata": {},
   "outputs": [],
   "source": []
  }
 ],
 "metadata": {
  "interpreter": {
   "hash": "b23a54a307c68e72ca2a23e7951a8039dbbb834772c78cac9c7ee54b21666c94"
  },
  "kernelspec": {
   "display_name": "Python 3",
   "language": "python",
   "name": "python3"
  },
  "language_info": {
   "codemirror_mode": {
    "name": "ipython",
    "version": 3
   },
   "file_extension": ".py",
   "mimetype": "text/x-python",
   "name": "python",
   "nbconvert_exporter": "python",
   "pygments_lexer": "ipython3",
   "version": "3.9.4"
  }
 },
 "nbformat": 4,
 "nbformat_minor": 4
}
