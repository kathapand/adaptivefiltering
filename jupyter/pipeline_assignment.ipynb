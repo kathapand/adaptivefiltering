{
 "cells": [
  {
   "cell_type": "code",
   "execution_count": null,
   "id": "333d5ffc-8c99-4e7e-a9f2-9c484c38938d",
   "metadata": {},
   "outputs": [],
   "source": [
    "import adaptivefiltering"
   ]
  },
  {
   "cell_type": "code",
   "execution_count": null,
   "id": "57ebe268-2263-4107-98e9-c5d59264c115",
   "metadata": {},
   "outputs": [],
   "source": [
    "ds = adaptivefiltering.DataSet(filename=\"500k_NZ20_Westport.laz\")"
   ]
  },
  {
   "cell_type": "code",
   "execution_count": null,
   "id": "355c1374-4588-4258-bea9-52bffafdcf62",
   "metadata": {},
   "outputs": [],
   "source": [
    "segmentation = adaptivefiltering.segmentation.Segmentation.load(\n",
    "    \"westportSegmentation.geojson\"\n",
    ")"
   ]
  },
  {
   "cell_type": "code",
   "execution_count": null,
   "id": "6a2b9913-e603-4bae-b9be-40a7446ec98d",
   "metadata": {},
   "outputs": [],
   "source": [
    "segmentation_merged = segmentation.merge_classes()"
   ]
  },
  {
   "cell_type": "code",
   "execution_count": null,
   "id": "faa02f93-e956-46ac-be9d-0c0c2528ba25",
   "metadata": {},
   "outputs": [],
   "source": []
  }
 ],
 "metadata": {
  "kernelspec": {
   "display_name": "Python 3.9.10 ('adaptivefiltering')",
   "language": "python",
   "name": "python3910jvsc74a57bd01627d39a9c32f61bfe4aff5945465546673e092d7ef9633feb11a3827f5d287f"
  },
  "language_info": {
   "codemirror_mode": {
    "name": "ipython",
    "version": 3
   },
   "file_extension": ".py",
   "mimetype": "text/x-python",
   "name": "python",
   "nbconvert_exporter": "python",
   "pygments_lexer": "ipython3",
   "version": "3.9.10"
  }
 },
 "nbformat": 4,
 "nbformat_minor": 5
}
