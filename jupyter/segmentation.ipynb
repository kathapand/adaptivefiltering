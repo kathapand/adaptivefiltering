{
 "cells": [
  {
   "cell_type": "markdown",
   "id": "2085e552-3dd8-4a2b-a646-2cc08a818255",
   "metadata": {},
   "source": [
    "## Mapping segmentations to filter pipelines"
   ]
  },
  {
   "cell_type": "markdown",
   "id": "e4f5df45",
   "metadata": {},
   "source": [
    "This notebook is an example to show how one can combine previously tuned pipelines with a segmented dataset.\n",
    "In the end each terrain class is assigned their respective pipeline.\n",
    " "
   ]
  },
  {
   "cell_type": "code",
   "execution_count": null,
   "id": "3a9768c0-91a2-47c6-bdba-2bea91e7e9b8",
   "metadata": {},
   "outputs": [],
   "source": [
    "import adaptivefiltering as af"
   ]
  },
  {
   "cell_type": "markdown",
   "id": "9dd14ed6",
   "metadata": {},
   "source": [
    "First we need to import our dataset, segmentation and the desired pipelines.\n",
    "\n"
   ]
  },
  {
   "cell_type": "code",
   "execution_count": null,
   "id": "ead2d92e-4be8-4aa6-82fc-7758d3583b6b",
   "metadata": {},
   "outputs": [],
   "source": [
    "ds = af.DataSet(filename=\"500k_NZ20_Westport.laz\")"
   ]
  },
  {
   "cell_type": "markdown",
   "id": "fd0076db-99a2-4657-9390-dde78f6d2d31",
   "metadata": {},
   "source": [
    "Import the segmentation.\n",
    "Note that the segmentation has to be done in an external program."
   ]
  },
  {
   "cell_type": "code",
   "execution_count": null,
   "id": "76d28da8-e98a-4079-85ca-4459d793faad",
   "metadata": {},
   "outputs": [],
   "source": [
    "# In the future it is necessary to include a spatial reference for the Segmentation.For\n",
    "segmentation = af.segmentation.Segmentation.load(\"westportSegmentation.geojson\")"
   ]
  },
  {
   "cell_type": "markdown",
   "id": "a8ad7599-9db4-4036-bdac-7400d2b7b1a5",
   "metadata": {},
   "source": [
    "set a filter library"
   ]
  },
  {
   "cell_type": "code",
   "execution_count": null,
   "id": "8b8b0f04",
   "metadata": {},
   "outputs": [],
   "source": [
    "# these are subject to change\n",
    "p1 = af.load_filter(\"testfilter1.json\")\n",
    "p2 = af.load_filter(\"testfilter2.json\")"
   ]
  },
  {
   "cell_type": "markdown",
   "id": "62fe52f4-30be-4724-a7da-0e201a78f021",
   "metadata": {},
   "source": [
    "add all desired pipelines to a list"
   ]
  },
  {
   "cell_type": "code",
   "execution_count": null,
   "id": "eaa89e7c-b13b-4118-87bf-26ff50fab74d",
   "metadata": {},
   "outputs": [],
   "source": [
    "pipelines = [p1, p2]"
   ]
  },
  {
   "cell_type": "markdown",
   "id": "234a23de-7abc-4236-8155-a8433fce27d1",
   "metadata": {},
   "source": [
    "assign_pipeline is an interactive widget that allows the user to assign a pipeline to features based on property keywords.\n",
    "\n",
    "For this one chooses which property keyword is used to group the segmentations and then uses the dropdown menüs to select the proper pipeline.\n",
    "\n",
    "once the pipelines have been assigned use the finalize button to close the widget"
   ]
  },
  {
   "cell_type": "code",
   "execution_count": null,
   "id": "cc53b51f-1448-4d0a-94d7-d08e312844b3",
   "metadata": {
    "tags": []
   },
   "outputs": [],
   "source": [
    "assigned_segmentation = af.assign_pipeline(\n",
    "    ds, segmentation=segmentation, pipelines=pipelines\n",
    ")"
   ]
  },
  {
   "cell_type": "markdown",
   "id": "f17a82d5-eb7e-4300-a22b-db371aa8d6bc",
   "metadata": {},
   "source": [
    "Once the pipelines are assigned the returned segmentation object has a new property called \"pipeline\" that will direct the adaptivefiltering command line interface to the corresponding file."
   ]
  },
  {
   "cell_type": "code",
   "execution_count": null,
   "id": "ffc060ca-78db-46ac-8453-2af6d7c2f1ce",
   "metadata": {},
   "outputs": [],
   "source": [
    "assigned_segmentation.save(\"assigned_segmentation.geojson\")"
   ]
  }
 ],
 "metadata": {
  "kernelspec": {
   "display_name": "Python 3",
   "language": "python",
   "name": "python3"
  },
  "language_info": {
   "codemirror_mode": {
    "name": "ipython",
    "version": 3
   },
   "file_extension": ".py",
   "mimetype": "text/x-python",
   "name": "python",
   "nbconvert_exporter": "python",
   "pygments_lexer": "ipython3",
   "version": "3.9.10"
  }
 },
 "nbformat": 4,
 "nbformat_minor": 5
}
