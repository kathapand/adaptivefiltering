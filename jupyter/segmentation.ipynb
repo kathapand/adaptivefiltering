{
 "cells": [
  {
   "cell_type": "markdown",
   "id": "2085e552-3dd8-4a2b-a646-2cc08a818255",
   "metadata": {},
   "source": [
    "## Mapping segmentations to filter pipelines"
   ]
  },
  {
   "cell_type": "code",
   "execution_count": null,
   "id": "3a9768c0-91a2-47c6-bdba-2bea91e7e9b8",
   "metadata": {},
   "outputs": [],
   "source": []
  }
 ],
 "metadata": {
  "kernelspec": {
   "display_name": "Python 3",
   "language": "python",
   "name": "python3"
  },
  "language_info": {
   "codemirror_mode": {
    "name": "ipython",
    "version": 3
   },
   "file_extension": ".py",
   "mimetype": "text/x-python",
   "name": "python",
   "nbconvert_exporter": "python",
   "pygments_lexer": "ipython3",
   "version": "3.9.10"
  }
 },
 "nbformat": 4,
 "nbformat_minor": 5
}
