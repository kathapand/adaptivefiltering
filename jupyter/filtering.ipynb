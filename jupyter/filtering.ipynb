{
 "cells": [
  {
   "cell_type": "markdown",
   "id": "a757ab54-e828-4e65-b373-f299df705561",
   "metadata": {},
   "source": [
    "## Configuring filter pipelines"
   ]
  },
  {
   "cell_type": "code",
   "execution_count": null,
   "id": "dc43d668-e991-4a4c-9b74-68fe4caea542",
   "metadata": {},
   "outputs": [],
   "source": [
    "import adaptivefiltering"
   ]
  },
  {
   "cell_type": "code",
   "execution_count": null,
   "id": "871ac067-09d8-47fd-afde-f52c8cf75688",
   "metadata": {},
   "outputs": [],
   "source": [
    "dataset = adaptivefiltering.DataSet(filename=\"data/500k_NZ20_Westport.laz\")"
   ]
  },
  {
   "cell_type": "code",
   "execution_count": null,
   "id": "58282040-2b84-4e89-8634-f5e2d9d35f3c",
   "metadata": {},
   "outputs": [],
   "source": [
    "pipeline = adaptivefiltering.pipeline_tuning(dataset)"
   ]
  }
 ],
 "metadata": {
  "kernelspec": {
   "display_name": "Python 3",
   "language": "python",
   "name": "python3"
  },
  "language_info": {
   "codemirror_mode": {
    "name": "ipython",
    "version": 3
   },
   "file_extension": ".py",
   "mimetype": "text/x-python",
   "name": "python",
   "nbconvert_exporter": "python",
   "pygments_lexer": "ipython3",
   "version": "3.9.6"
  }
 },
 "nbformat": 4,
 "nbformat_minor": 5
}
