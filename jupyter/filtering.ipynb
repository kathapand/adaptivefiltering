{
 "cells": [
  {
   "cell_type": "markdown",
   "id": "370dc73e",
   "metadata": {},
   "source": [
    "## Working with filter pipelines"
   ]
  },
  {
   "cell_type": "markdown",
   "id": "9a1a949b",
   "metadata": {},
   "source": [
    "This Jupyter notebook explains the workflow of setting up and configuring a ground point filtering pipeline. This is an advanced workflow for users that want to define their own filtering workflows. For basic use, preconfigured pipelines are (or rather: will be) provided by `adaptivefiltering`. As always, we first need to import our library:"
   ]
  },
  {
   "cell_type": "code",
   "execution_count": null,
   "id": "4283d199",
   "metadata": {},
   "outputs": [],
   "source": [
    "import adaptivefiltering"
   ]
  },
  {
   "cell_type": "markdown",
   "id": "49f8b3fd",
   "metadata": {},
   "source": [
    "Also, we need to load at least one data set which we will use to interactively preview our filter settings. Note that for a good interactive experience with no downtimes, you should restrict your datasets to a reasonable size (see the [Working with datasets](datasets.ipynb) notebook for how to do it)."
   ]
  },
  {
   "cell_type": "code",
   "execution_count": null,
   "id": "8278cb63",
   "metadata": {},
   "outputs": [],
   "source": [
    "# dataset = adaptivefiltering.DataSet(filename=\"data/500k_NZ20_Westport.laz\")\n",
    "dataset = adaptivefiltering.DataSet(filename=\"data/uls_thingstaette.las\")"
   ]
  },
  {
   "cell_type": "markdown",
   "id": "8bf3b499",
   "metadata": {},
   "source": [
    "### Filtering backends"
   ]
  },
  {
   "cell_type": "markdown",
   "id": "283ea13b",
   "metadata": {},
   "source": [
    "`adaptivefiltering` does not implement its own ground point filtering algorithms. Instead, algorithms from existing packages are accessible through a common interface. Currently, the following backends are available:\n",
    "\n",
    "* [PDAL](https://pdal.io/): The Point Data Abstraction Library is an open source library for point cloud processing.\n",
    "* [OPALS](https://opals.geo.tuwien.ac.at/html/stable/index.html) is a proprietary library for processing Lidar data. It can be tested freely for datasets <1M points.\n",
    "\n",
    "PDAL is always available when using `adaptivefiltering` and is used internally for many tasks that are not directly related to ground point filtering. In order to enable the OPALS backend, `adaptivefiltering` needs to be given the information where your OPALS installation (potentially including your license key) is located. This can either be done by setting the environment variable `OPALS_DIR` or by setting the path at runtime:"
   ]
  },
  {
   "cell_type": "code",
   "execution_count": null,
   "id": "c1003dd0",
   "metadata": {},
   "outputs": [],
   "source": [
    "adaptivefiltering.set_opals_directory(\"/home/gwydion/SSC/Opals/opals_2.4.0\")"
   ]
  },
  {
   "cell_type": "markdown",
   "id": "063bfccd",
   "metadata": {},
   "source": [
    "### Configuring a filter pipeline"
   ]
  },
  {
   "cell_type": "markdown",
   "id": "753b017a",
   "metadata": {},
   "source": [
    "The main pipeline configuration is done by calling the `pipeline_tuning` function with your dataset as the parameter. This will open the interactive user interface which waits for your user input until you hit the *Finalize* button. The configured filter is then accessible as the Python object `pipeline`:"
   ]
  },
  {
   "cell_type": "code",
   "execution_count": null,
   "id": "d971261f",
   "metadata": {},
   "outputs": [],
   "source": [
    "pipeline = adaptivefiltering.pipeline_tuning(dataset)"
   ]
  },
  {
   "cell_type": "markdown",
   "id": "1474d90e",
   "metadata": {},
   "source": [
    "If you want to inspect multiple data sets in parallel while tuning a pipeline, you can do so by passing a list of datasets to the `pipeline_tuning` function. Note that `adaptivefiltering` does currently not parallelize the execution of filter pipeline execution which may have a negative impact on wait times while tuning with multiple parameters."
   ]
  },
  {
   "cell_type": "code",
   "execution_count": null,
   "id": "62a5878a",
   "metadata": {},
   "outputs": [],
   "source": [
    "pipeline2 = adaptivefiltering.pipeline_tuning(datasets=[dataset, dataset])"
   ]
  },
  {
   "cell_type": "markdown",
   "id": "27aeaab7",
   "metadata": {
    "tags": []
   },
   "source": [
    "### Storing and reloading filter pipelines"
   ]
  },
  {
   "cell_type": "markdown",
   "id": "5657b31e",
   "metadata": {},
   "source": [
    "Pipeline objects can be stored on disk with the `save_filter` command from `adaptivefiltering`. We typically use the extension `json` for filters. It stands for *JavaScript Object Notation* and is a widely used format for storing custom data structures:"
   ]
  },
  {
   "cell_type": "code",
   "execution_count": null,
   "id": "5df8fb01",
   "metadata": {},
   "outputs": [],
   "source": [
    "adaptivefiltering.save_filter(pipeline, \"opals_filter.json\")"
   ]
  },
  {
   "cell_type": "markdown",
   "id": "43b304b2",
   "metadata": {},
   "source": [
    "The appropriate counterpart is `load_filter`, which restores the pipeline object from a file:"
   ]
  },
  {
   "cell_type": "code",
   "execution_count": null,
   "id": "618646a1",
   "metadata": {},
   "outputs": [],
   "source": [
    "old_pipeline = adaptivefiltering.load_filter(\"myfilter.json\")"
   ]
  },
  {
   "cell_type": "markdown",
   "id": "7ff1aa4d",
   "metadata": {},
   "source": [
    "A filter pipeline loaded from a file can be edited using the `pipeline_tuning` command by passing it to the function. As always, the pipeline object returned by `pipeline_tuning` will be a new object - no implicit changes of the loaded pipeline object will occur:"
   ]
  },
  {
   "cell_type": "code",
   "execution_count": null,
   "id": "905aa69f",
   "metadata": {},
   "outputs": [],
   "source": [
    "edited_pipeline = adaptivefiltering.pipeline_tuning(dataset, pipeline=old_pipeline)"
   ]
  },
  {
   "cell_type": "markdown",
   "id": "82e50a78",
   "metadata": {},
   "source": [
    "### Applying filter pipelines to data"
   ]
  },
  {
   "cell_type": "markdown",
   "id": "36598c39",
   "metadata": {},
   "source": [
    "Pipeline objects can also be used to transform data sets by applying the ground point filtering algorithms. This is one of the core tasks of the `adaptivefiltering` library, but this will rarely be done in this manual fashion, as we will provide additional interfaces for (locally adaptive) application of filter pipelines:"
   ]
  },
  {
   "cell_type": "code",
   "execution_count": null,
   "id": "a87f7d44",
   "metadata": {},
   "outputs": [],
   "source": [
    "filtered = pipeline.execute(dataset)"
   ]
  },
  {
   "cell_type": "code",
   "execution_count": null,
   "id": "6b347d49",
   "metadata": {},
   "outputs": [],
   "source": []
  }
 ],
 "metadata": {
  "interpreter": {
   "hash": "d675111c55b50e49d58e5179e69cc710d4110717fd214fa9e6424bfa118e8c2b"
  },
  "kernelspec": {
   "display_name": "Python 3.9.7 64-bit ('adaptivefiltering': conda)",
   "name": "python3"
  },
  "language_info": {
   "codemirror_mode": {
    "name": "ipython",
    "version": 3
   },
   "file_extension": ".py",
   "mimetype": "text/x-python",
   "name": "python",
   "nbconvert_exporter": "python",
   "pygments_lexer": "ipython3",
   "version": "3.9.7"
  }
 },
 "nbformat": 4,
 "nbformat_minor": 5
}
