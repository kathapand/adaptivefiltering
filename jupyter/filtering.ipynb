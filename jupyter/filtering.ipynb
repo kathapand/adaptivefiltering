{
 "cells": [
  {
   "cell_type": "markdown",
   "id": "a5a7d312",
   "metadata": {},
   "source": [
    "## Working with filter pipelines"
   ]
  },
  {
   "cell_type": "markdown",
   "id": "73d754bd",
   "metadata": {},
   "source": [
    "This Jupyter notebook explains the workflow of setting up and configuring a ground point filtering pipeline. This is an advanced workflow for users that want to define their own filtering workflows. For basic use, preconfigured pipelines are (or rather: will be) provided by `adaptivefiltering`. As always, we first need to import our library:"
   ]
  },
  {
   "cell_type": "code",
   "execution_count": null,
   "id": "75b952e1",
   "metadata": {},
   "outputs": [],
   "source": [
    "import adaptivefiltering"
   ]
  },
  {
   "cell_type": "markdown",
   "id": "bf4cf4f6",
   "metadata": {},
   "source": [
    "Also, we need to load at least one data set which we will use to interactively preview our filter settings. Note that for a good interactive experience with no downtimes, you should restrict your datasets to a reasonable size (see the [Working with datasets](datasets.ipynb) notebook for how to do it)."
   ]
  },
  {
   "cell_type": "code",
   "execution_count": null,
   "id": "6628366a",
   "metadata": {},
   "outputs": [],
   "source": [
    "# dataset = adaptivefiltering.DataSet(filename=\"data/500k_NZ20_Westport.laz\")\n",
    "dataset = adaptivefiltering.DataSet(filename=\"data/uls_thingstaette.las\")"
   ]
  },
  {
   "cell_type": "markdown",
   "id": "195f60c3",
   "metadata": {},
   "source": [
    "### Filtering backends"
   ]
  },
  {
   "cell_type": "markdown",
   "id": "60698df2",
   "metadata": {},
   "source": [
    "`adaptivefiltering` does not implement its own ground point filtering algorithms. Instead, algorithms from existing packages are accessible through a common interface. Currently, the following backends are available:\n",
    "\n",
    "* [PDAL](https://pdal.io/): The Point Data Abstraction Library is an open source library for point cloud processing.\n",
    "* [OPALS](https://opals.geo.tuwien.ac.at/html/stable/index.html) is a proprietary library for processing Lidar data. It can be tested freely for datasets <1M points.\n",
    "\n",
    "PDAL is always available when using `adaptivefiltering` and is used internally for many tasks that are not directly related to ground point filtering. In order to enable the OPALS backend, `adaptivefiltering` needs to be given the information where your OPALS installation (potentially including your license key) is located. This can either be done by setting the environment variable `OPALS_DIR` or by setting the path at runtime:"
   ]
  },
  {
   "cell_type": "code",
   "execution_count": null,
   "id": "fddf7bec",
   "metadata": {},
   "outputs": [],
   "source": [
    "adaptivefiltering.set_opals_directory(\"/path/to/opals\")"
   ]
  },
  {
   "cell_type": "markdown",
   "id": "03ef2fa4",
   "metadata": {},
   "source": [
    "### Configuring a filter pipeline"
   ]
  },
  {
   "cell_type": "markdown",
   "id": "5ac012c4",
   "metadata": {},
   "source": [
    "The main pipeline configuration is done by calling the `pipeline_tuning` function with your dataset as the parameter. This will open the interactive user interface which waits for your user input until you hit the *Finalize* button. The configured filter is then accessible as the Python object `pipeline`:"
   ]
  },
  {
   "cell_type": "code",
   "execution_count": null,
   "id": "f56f9d3e",
   "metadata": {},
   "outputs": [],
   "source": [
    "pipeline = adaptivefiltering.pipeline_tuning(dataset)"
   ]
  },
  {
   "cell_type": "markdown",
   "id": "f8ed8b24",
   "metadata": {},
   "source": [
    "If you want to inspect multiple data sets in parallel while tuning a pipeline, you can do so by passing a list of datasets to the `pipeline_tuning` function. Note that `adaptivefiltering` does currently not parallelize the execution of filter pipeline execution which may have a negative impact on wait times while tuning with multiple parameters."
   ]
  },
  {
   "cell_type": "code",
   "execution_count": null,
   "id": "83aa48c9",
   "metadata": {},
   "outputs": [],
   "source": [
    "pipeline2 = adaptivefiltering.pipeline_tuning(datasets=[dataset, dataset])"
   ]
  },
  {
   "cell_type": "markdown",
   "id": "c5bfe2e0",
   "metadata": {
    "tags": []
   },
   "source": [
    "### Storing and reloading filter pipelines"
   ]
  },
  {
   "cell_type": "markdown",
   "id": "4c0d7bc3",
   "metadata": {},
   "source": [
    "Pipeline objects can be stored on disk with the `save_filter` command from `adaptivefiltering`. We typically use the extension `json` for filters. It stands for *JavaScript Object Notation* and is a widely used format for storing custom data structures:"
   ]
  },
  {
   "cell_type": "code",
   "execution_count": null,
   "id": "c7835f0a",
   "metadata": {},
   "outputs": [],
   "source": [
    "adaptivefiltering.save_filter(pipeline, \"myfilter.json\")"
   ]
  },
  {
   "cell_type": "markdown",
   "id": "35223f29",
   "metadata": {},
   "source": [
    "The appropriate counterpart is `load_filter`, which restores the pipeline object from a file:"
   ]
  },
  {
   "cell_type": "code",
   "execution_count": null,
   "id": "0e0f0aa6",
   "metadata": {},
   "outputs": [],
   "source": [
    "old_pipeline = adaptivefiltering.load_filter(\"myfilter.json\")"
   ]
  },
  {
   "cell_type": "markdown",
   "id": "28e82698",
   "metadata": {},
   "source": [
    "A filter pipeline loaded from a file can be edited using the `pipeline_tuning` command by passing it to the function. As always, the pipeline object returned by `pipeline_tuning` will be a new object - no implicit changes of the loaded pipeline object will occur:"
   ]
  },
  {
   "cell_type": "code",
   "execution_count": null,
   "id": "8b583317",
   "metadata": {},
   "outputs": [],
   "source": [
    "edited_pipeline = adaptivefiltering.pipeline_tuning(dataset, pipeline=old_pipeline)"
   ]
  },
  {
   "cell_type": "markdown",
   "id": "1a8e5f23",
   "metadata": {},
   "source": [
    "### Applying filter pipelines to data"
   ]
  },
  {
   "cell_type": "markdown",
   "id": "4ddede2c",
   "metadata": {},
   "source": [
    "Pipeline objects can also be used to transform data sets by applying the ground point filtering algorithms. This is one of the core tasks of the `adaptivefiltering` library, but this will rarely be done in this manual fashion, as we will provide additional interfaces for (locally adaptive) application of filter pipelines:"
   ]
  },
  {
   "cell_type": "code",
   "execution_count": null,
   "id": "55d8fa20",
   "metadata": {},
   "outputs": [],
   "source": [
    "filtered = pipeline.execute(dataset)"
   ]
  },
  {
   "cell_type": "code",
   "execution_count": null,
   "id": "e7f8e76e",
   "metadata": {},
   "outputs": [],
   "source": []
  }
 ],
 "metadata": {
  "interpreter": {
   "hash": "d675111c55b50e49d58e5179e69cc710d4110717fd214fa9e6424bfa118e8c2b"
  },
  "kernelspec": {
   "display_name": "Python 3.9.7 64-bit ('adaptivefiltering': conda)",
   "name": "python3"
  },
  "language_info": {
   "codemirror_mode": {
    "name": "ipython",
    "version": 3
   },
   "file_extension": ".py",
   "mimetype": "text/x-python",
   "name": "python",
   "nbconvert_exporter": "python",
   "pygments_lexer": "ipython3",
   "version": "3.9.7"
  }
 },
 "nbformat": 4,
 "nbformat_minor": 5
}
