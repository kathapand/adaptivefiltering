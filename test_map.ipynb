{
 "cells": [
  {
   "cell_type": "code",
   "execution_count": null,
   "metadata": {},
   "outputs": [],
   "source": [
    "import adaptivefiltering as af"
   ]
  },
  {
   "cell_type": "code",
   "execution_count": null,
   "metadata": {},
   "outputs": [],
   "source": [
    "# ds = af.DataSet(filename=\"data/uls_thingstaette.las\")\n",
    "\n",
    "# transofmation does not work correctly\n",
    "# ds = af.DataSet(filename=\"data/500k_NZ20_Westport.laz\")\n",
    "\n",
    "# problem with spatial reference string\n",
    "ds = af.DataSet(\n",
    "    filename=\"adaptivefiltering/data/gruben12.las\",\n",
    "    spatial_reference=\"EPSG:25833 - ETRS89 / UTM zone 33N\",\n",
    ")\n",
    "# ds = af.DataSet(filename=\"adaptivefiltering/data/gruben12.las\", spatial_reference=\"EPSG:25833\")\n",
    "\n",
    "\n",
    "# zoom bug\n",
    "# ds = af.DataSet(filename=\"adaptivefiltering/data/pkgebk_all.las\", spatial_reference=\"EPSG:25833 - ETRS89 / UTM zone 33N\")\n",
    "# ds = af.DataSet(filename=\"adaptivefiltering/data/pkgebk_all.las\", spatial_reference=\"EPSG:25833\")\n",
    "\n",
    "# ds = af.DataSet(filename=\"adaptivefiltering/data/pkgebmodern_last.las\", spatial_reference=\"EPSG:25833 - ETRS89 / UTM zone 33N\")\n",
    "# ds = af.DataSet(filename=\"adaptivefiltering/data/pkgebmodern_last.las\", spatial_reference=\"EPSG:25833\")\n",
    "\n",
    "\n",
    "ds = af.pdal.PDALInMemoryDataSet.convert(ds)\n",
    "ds.spatial_reference"
   ]
  },
  {
   "cell_type": "code",
   "execution_count": null,
   "metadata": {},
   "outputs": [],
   "source": [
    "test = af.segmentation.Map(ds)"
   ]
  },
  {
   "cell_type": "code",
   "execution_count": null,
   "metadata": {},
   "outputs": [],
   "source": [
    "test.show()"
   ]
  },
  {
   "cell_type": "code",
   "execution_count": null,
   "metadata": {},
   "outputs": [],
   "source": [
    "test.load_overlay(\"Hillshade\")"
   ]
  },
  {
   "cell_type": "code",
   "execution_count": null,
   "metadata": {},
   "outputs": [],
   "source": [
    "ds.show_interactive()"
   ]
  },
  {
   "cell_type": "code",
   "execution_count": null,
   "metadata": {},
   "outputs": [],
   "source": []
  }
 ],
 "metadata": {
  "language_info": {
   "name": "python"
  }
 },
 "nbformat": 4,
 "nbformat_minor": 2
}
