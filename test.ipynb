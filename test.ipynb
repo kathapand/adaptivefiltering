{
 "cells": [
  {
   "cell_type": "code",
   "execution_count": null,
   "metadata": {},
   "outputs": [],
   "source": [
    "import adaptivefiltering as af\n",
    "import pyproj\n",
    "import re\n",
    "from osgeo import ogr\n",
    "import geodaisy.converters as convert\n",
    "from geojson.utils import coords\n",
    "import numpy as np\n",
    "import copy"
   ]
  },
  {
   "cell_type": "code",
   "execution_count": null,
   "metadata": {},
   "outputs": [],
   "source": [
    "# ds = af.DataSet(\"adaptivefiltering/data/gruben12.las\",spatial_reference = \"epsg:25833 - bla\")\n",
    "ds2 = af.DataSet(\"adaptivefiltering/data/uls_thingstaette.las\")\n",
    "# ds3 = af.DataSet(\"adaptivefiltering/data/gruben12.las\")\n",
    "\n",
    "# ds = af.pdal.PDALInMemoryDataSet.convert(ds)\n",
    "ds2 = af.pdal.PDALInMemoryDataSet.convert(ds2)\n",
    "# ds3 = af.pdal.PDALInMemoryDataSet.convert(ds3)"
   ]
  },
  {
   "cell_type": "code",
   "execution_count": null,
   "metadata": {},
   "outputs": [],
   "source": [
    "test = ds2.restrict()"
   ]
  },
  {
   "cell_type": "code",
   "execution_count": null,
   "metadata": {},
   "outputs": [],
   "source": [
    "test.show()"
   ]
  },
  {
   "cell_type": "code",
   "execution_count": null,
   "metadata": {},
   "outputs": [],
   "source": [
    "test.restrict()"
   ]
  },
  {
   "cell_type": "code",
   "execution_count": null,
   "metadata": {},
   "outputs": [],
   "source": [
    "print(test.data)"
   ]
  },
  {
   "cell_type": "code",
   "execution_count": null,
   "metadata": {},
   "outputs": [],
   "source": [
    "print(re.match(\"(?i)^EPSG:[0-9]{4,5}\", crs).group())"
   ]
  },
  {
   "cell_type": "code",
   "execution_count": null,
   "metadata": {},
   "outputs": [],
   "source": [
    "import re\n",
    "\n",
    "xx = \"guru99,education is fun\"\n",
    "r1 = re.findall(r\"^\\w+\", xx)\n",
    "print(r1)"
   ]
  }
 ],
 "metadata": {
  "interpreter": {
   "hash": "ff6c2ec6d5c63a5e7f4d94699c115c2eff5d6eac79919f35b2cde21d24e59c75"
  },
  "kernelspec": {
   "display_name": "Python 3",
   "language": "python",
   "name": "python3"
  },
  "language_info": {
   "codemirror_mode": {
    "name": "ipython",
    "version": 3
   },
   "file_extension": ".py",
   "mimetype": "text/x-python",
   "name": "python",
   "nbconvert_exporter": "python",
   "pygments_lexer": "ipython3",
   "version": "3.9.7"
  }
 },
 "nbformat": 4,
 "nbformat_minor": 4
}
