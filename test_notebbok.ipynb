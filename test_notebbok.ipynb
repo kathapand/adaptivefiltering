{
 "cells": [
  {
   "cell_type": "code",
   "execution_count": null,
   "metadata": {},
   "outputs": [],
   "source": [
    "import adaptivefiltering as af\n",
    "from adaptivefiltering import asprs\n",
    "import pdal"
   ]
  },
  {
   "cell_type": "code",
   "execution_count": null,
   "metadata": {},
   "outputs": [],
   "source": [
    "ds = af.DataSet(\n",
    "    filename=\"data/pkgebk_all.las\",\n",
    "    spatial_reference=\"EPSG:25833 - ETRS89 / UTM zone 33N\",\n",
    ")\n",
    "\n",
    "# ds = af.DataSet(filename=\"data/pkgebk_all.las\")\n",
    "\n",
    "# ds = af.DataSet(filename=\"data/uls_thingstaette.las\")"
   ]
  },
  {
   "cell_type": "code",
   "execution_count": null,
   "metadata": {},
   "outputs": [],
   "source": [
    "print(ds.spatial_reference)"
   ]
  },
  {
   "cell_type": "code",
   "execution_count": null,
   "metadata": {},
   "outputs": [],
   "source": [
    "ds = af.pdal.PDALInMemoryDataSet.convert(ds)"
   ]
  },
  {
   "cell_type": "code",
   "execution_count": null,
   "metadata": {},
   "outputs": [],
   "source": [
    "ds.spatial_reference"
   ]
  },
  {
   "cell_type": "code",
   "execution_count": null,
   "metadata": {},
   "outputs": [],
   "source": [
    "ds.show_hillshade(resolution=0.5, classification=asprs[:])"
   ]
  },
  {
   "cell_type": "code",
   "execution_count": null,
   "metadata": {},
   "outputs": [],
   "source": []
  },
  {
   "cell_type": "code",
   "execution_count": null,
   "metadata": {},
   "outputs": [],
   "source": []
  }
 ],
 "metadata": {
  "interpreter": {
   "hash": "d675111c55b50e49d58e5179e69cc710d4110717fd214fa9e6424bfa118e8c2b"
  },
  "kernelspec": {
   "display_name": "Python 3.9.7 64-bit ('adaptivefiltering': conda)",
   "name": "python3"
  },
  "language_info": {
   "codemirror_mode": {
    "name": "ipython",
    "version": 3
   },
   "file_extension": ".py",
   "mimetype": "text/x-python",
   "name": "python",
   "nbconvert_exporter": "python",
   "pygments_lexer": "ipython3",
   "version": "3.9.7"
  }
 },
 "nbformat": 4,
 "nbformat_minor": 2
}
